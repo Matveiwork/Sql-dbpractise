{
 "cells": [
  {
   "cell_type": "code",
   "execution_count": 38,
   "id": "11f817f7",
   "metadata": {},
   "outputs": [],
   "source": [
    "import sqlite3\n",
    "import pandas as pd\n",
    "import seaborn as sns\n",
    "import re\n",
    "from datetime import datetime"
   ]
  },
  {
   "cell_type": "code",
   "execution_count": 2,
   "id": "151ef76a",
   "metadata": {},
   "outputs": [],
   "source": [
    "db = 'chinook.db'\n",
    "conn = sqlite3.connect(db)\n",
    "cursor = conn.cursor()"
   ]
  },
  {
   "cell_type": "code",
   "execution_count": 3,
   "id": "a497652a",
   "metadata": {},
   "outputs": [],
   "source": [
    "result = [a for a in cursor.execute(\"\"\"\n",
    "SELECT i.invoice_id, i.invoice_date, il.unit_price, t.genre_id, g.name\n",
    "FROM invoice AS i\n",
    "JOIN invoice_line AS il ON i.invoice_id = il.invoice_id\n",
    "JOIN track AS t ON il.track_id = t.track_id\n",
    "JOIN genre AS g ON t.genre_id = g.genre_id\n",
    "\"\"\")\n",
    "]"
   ]
  },
  {
   "cell_type": "code",
   "execution_count": 83,
   "id": "c9c0ec76",
   "metadata": {},
   "outputs": [],
   "source": [
    "df = pd.read_sql_query(\"\"\"\n",
    "SELECT i.invoice_id, i.invoice_date, il.unit_price, t.genre_id, g.name\n",
    "FROM invoice AS i\n",
    "JOIN invoice_line AS il ON i.invoice_id = il.invoice_id\n",
    "JOIN track AS t ON il.track_id = t.track_id\n",
    "JOIN genre AS g ON t.genre_id = g.genre_id\n",
    "\"\"\",conn)"
   ]
  },
  {
   "cell_type": "code",
   "execution_count": 84,
   "id": "a4b82c32",
   "metadata": {},
   "outputs": [
    {
     "data": {
      "text/html": [
       "<div>\n",
       "<style scoped>\n",
       "    .dataframe tbody tr th:only-of-type {\n",
       "        vertical-align: middle;\n",
       "    }\n",
       "\n",
       "    .dataframe tbody tr th {\n",
       "        vertical-align: top;\n",
       "    }\n",
       "\n",
       "    .dataframe thead th {\n",
       "        text-align: right;\n",
       "    }\n",
       "</style>\n",
       "<table border=\"1\" class=\"dataframe\">\n",
       "  <thead>\n",
       "    <tr style=\"text-align: right;\">\n",
       "      <th></th>\n",
       "      <th>invoice_id</th>\n",
       "      <th>invoice_date</th>\n",
       "      <th>unit_price</th>\n",
       "      <th>genre_id</th>\n",
       "      <th>name</th>\n",
       "    </tr>\n",
       "  </thead>\n",
       "  <tbody>\n",
       "    <tr>\n",
       "      <th>0</th>\n",
       "      <td>1</td>\n",
       "      <td>2017-01-03 00:00:00</td>\n",
       "      <td>0.99</td>\n",
       "      <td>1</td>\n",
       "      <td>Rock</td>\n",
       "    </tr>\n",
       "    <tr>\n",
       "      <th>1</th>\n",
       "      <td>1</td>\n",
       "      <td>2017-01-03 00:00:00</td>\n",
       "      <td>0.99</td>\n",
       "      <td>1</td>\n",
       "      <td>Rock</td>\n",
       "    </tr>\n",
       "    <tr>\n",
       "      <th>2</th>\n",
       "      <td>1</td>\n",
       "      <td>2017-01-03 00:00:00</td>\n",
       "      <td>0.99</td>\n",
       "      <td>1</td>\n",
       "      <td>Rock</td>\n",
       "    </tr>\n",
       "    <tr>\n",
       "      <th>3</th>\n",
       "      <td>1</td>\n",
       "      <td>2017-01-03 00:00:00</td>\n",
       "      <td>0.99</td>\n",
       "      <td>1</td>\n",
       "      <td>Rock</td>\n",
       "    </tr>\n",
       "    <tr>\n",
       "      <th>4</th>\n",
       "      <td>1</td>\n",
       "      <td>2017-01-03 00:00:00</td>\n",
       "      <td>0.99</td>\n",
       "      <td>1</td>\n",
       "      <td>Rock</td>\n",
       "    </tr>\n",
       "    <tr>\n",
       "      <th>...</th>\n",
       "      <td>...</td>\n",
       "      <td>...</td>\n",
       "      <td>...</td>\n",
       "      <td>...</td>\n",
       "      <td>...</td>\n",
       "    </tr>\n",
       "    <tr>\n",
       "      <th>4752</th>\n",
       "      <td>614</td>\n",
       "      <td>2020-12-30 00:00:00</td>\n",
       "      <td>0.99</td>\n",
       "      <td>1</td>\n",
       "      <td>Rock</td>\n",
       "    </tr>\n",
       "    <tr>\n",
       "      <th>4753</th>\n",
       "      <td>614</td>\n",
       "      <td>2020-12-30 00:00:00</td>\n",
       "      <td>0.99</td>\n",
       "      <td>1</td>\n",
       "      <td>Rock</td>\n",
       "    </tr>\n",
       "    <tr>\n",
       "      <th>4754</th>\n",
       "      <td>614</td>\n",
       "      <td>2020-12-30 00:00:00</td>\n",
       "      <td>0.99</td>\n",
       "      <td>1</td>\n",
       "      <td>Rock</td>\n",
       "    </tr>\n",
       "    <tr>\n",
       "      <th>4755</th>\n",
       "      <td>614</td>\n",
       "      <td>2020-12-30 00:00:00</td>\n",
       "      <td>0.99</td>\n",
       "      <td>1</td>\n",
       "      <td>Rock</td>\n",
       "    </tr>\n",
       "    <tr>\n",
       "      <th>4756</th>\n",
       "      <td>614</td>\n",
       "      <td>2020-12-30 00:00:00</td>\n",
       "      <td>0.99</td>\n",
       "      <td>1</td>\n",
       "      <td>Rock</td>\n",
       "    </tr>\n",
       "  </tbody>\n",
       "</table>\n",
       "<p>4757 rows × 5 columns</p>\n",
       "</div>"
      ],
      "text/plain": [
       "      invoice_id         invoice_date  unit_price  genre_id  name\n",
       "0              1  2017-01-03 00:00:00        0.99         1  Rock\n",
       "1              1  2017-01-03 00:00:00        0.99         1  Rock\n",
       "2              1  2017-01-03 00:00:00        0.99         1  Rock\n",
       "3              1  2017-01-03 00:00:00        0.99         1  Rock\n",
       "4              1  2017-01-03 00:00:00        0.99         1  Rock\n",
       "...          ...                  ...         ...       ...   ...\n",
       "4752         614  2020-12-30 00:00:00        0.99         1  Rock\n",
       "4753         614  2020-12-30 00:00:00        0.99         1  Rock\n",
       "4754         614  2020-12-30 00:00:00        0.99         1  Rock\n",
       "4755         614  2020-12-30 00:00:00        0.99         1  Rock\n",
       "4756         614  2020-12-30 00:00:00        0.99         1  Rock\n",
       "\n",
       "[4757 rows x 5 columns]"
      ]
     },
     "execution_count": 84,
     "metadata": {},
     "output_type": "execute_result"
    }
   ],
   "source": [
    "df"
   ]
  },
  {
   "cell_type": "code",
   "execution_count": 85,
   "id": "8feb88dc",
   "metadata": {},
   "outputs": [],
   "source": [
    "df.genre_id = df.genre_id.apply(lambda x: 'Rock' if x in [1, 3, 4, 13, 23] else 'Other')"
   ]
  },
  {
   "cell_type": "code",
   "execution_count": 86,
   "id": "0f419d08",
   "metadata": {},
   "outputs": [
    {
     "data": {
      "text/html": [
       "<div>\n",
       "<style scoped>\n",
       "    .dataframe tbody tr th:only-of-type {\n",
       "        vertical-align: middle;\n",
       "    }\n",
       "\n",
       "    .dataframe tbody tr th {\n",
       "        vertical-align: top;\n",
       "    }\n",
       "\n",
       "    .dataframe thead th {\n",
       "        text-align: right;\n",
       "    }\n",
       "</style>\n",
       "<table border=\"1\" class=\"dataframe\">\n",
       "  <thead>\n",
       "    <tr style=\"text-align: right;\">\n",
       "      <th></th>\n",
       "      <th>invoice_id</th>\n",
       "      <th>invoice_date</th>\n",
       "      <th>unit_price</th>\n",
       "      <th>genre_id</th>\n",
       "      <th>name</th>\n",
       "    </tr>\n",
       "  </thead>\n",
       "  <tbody>\n",
       "    <tr>\n",
       "      <th>0</th>\n",
       "      <td>1</td>\n",
       "      <td>2017-01-03 00:00:00</td>\n",
       "      <td>0.99</td>\n",
       "      <td>Rock</td>\n",
       "      <td>Rock</td>\n",
       "    </tr>\n",
       "    <tr>\n",
       "      <th>1</th>\n",
       "      <td>1</td>\n",
       "      <td>2017-01-03 00:00:00</td>\n",
       "      <td>0.99</td>\n",
       "      <td>Rock</td>\n",
       "      <td>Rock</td>\n",
       "    </tr>\n",
       "    <tr>\n",
       "      <th>2</th>\n",
       "      <td>1</td>\n",
       "      <td>2017-01-03 00:00:00</td>\n",
       "      <td>0.99</td>\n",
       "      <td>Rock</td>\n",
       "      <td>Rock</td>\n",
       "    </tr>\n",
       "    <tr>\n",
       "      <th>3</th>\n",
       "      <td>1</td>\n",
       "      <td>2017-01-03 00:00:00</td>\n",
       "      <td>0.99</td>\n",
       "      <td>Rock</td>\n",
       "      <td>Rock</td>\n",
       "    </tr>\n",
       "    <tr>\n",
       "      <th>4</th>\n",
       "      <td>1</td>\n",
       "      <td>2017-01-03 00:00:00</td>\n",
       "      <td>0.99</td>\n",
       "      <td>Rock</td>\n",
       "      <td>Rock</td>\n",
       "    </tr>\n",
       "    <tr>\n",
       "      <th>...</th>\n",
       "      <td>...</td>\n",
       "      <td>...</td>\n",
       "      <td>...</td>\n",
       "      <td>...</td>\n",
       "      <td>...</td>\n",
       "    </tr>\n",
       "    <tr>\n",
       "      <th>4752</th>\n",
       "      <td>614</td>\n",
       "      <td>2020-12-30 00:00:00</td>\n",
       "      <td>0.99</td>\n",
       "      <td>Rock</td>\n",
       "      <td>Rock</td>\n",
       "    </tr>\n",
       "    <tr>\n",
       "      <th>4753</th>\n",
       "      <td>614</td>\n",
       "      <td>2020-12-30 00:00:00</td>\n",
       "      <td>0.99</td>\n",
       "      <td>Rock</td>\n",
       "      <td>Rock</td>\n",
       "    </tr>\n",
       "    <tr>\n",
       "      <th>4754</th>\n",
       "      <td>614</td>\n",
       "      <td>2020-12-30 00:00:00</td>\n",
       "      <td>0.99</td>\n",
       "      <td>Rock</td>\n",
       "      <td>Rock</td>\n",
       "    </tr>\n",
       "    <tr>\n",
       "      <th>4755</th>\n",
       "      <td>614</td>\n",
       "      <td>2020-12-30 00:00:00</td>\n",
       "      <td>0.99</td>\n",
       "      <td>Rock</td>\n",
       "      <td>Rock</td>\n",
       "    </tr>\n",
       "    <tr>\n",
       "      <th>4756</th>\n",
       "      <td>614</td>\n",
       "      <td>2020-12-30 00:00:00</td>\n",
       "      <td>0.99</td>\n",
       "      <td>Rock</td>\n",
       "      <td>Rock</td>\n",
       "    </tr>\n",
       "  </tbody>\n",
       "</table>\n",
       "<p>4757 rows × 5 columns</p>\n",
       "</div>"
      ],
      "text/plain": [
       "      invoice_id         invoice_date  unit_price genre_id  name\n",
       "0              1  2017-01-03 00:00:00        0.99     Rock  Rock\n",
       "1              1  2017-01-03 00:00:00        0.99     Rock  Rock\n",
       "2              1  2017-01-03 00:00:00        0.99     Rock  Rock\n",
       "3              1  2017-01-03 00:00:00        0.99     Rock  Rock\n",
       "4              1  2017-01-03 00:00:00        0.99     Rock  Rock\n",
       "...          ...                  ...         ...      ...   ...\n",
       "4752         614  2020-12-30 00:00:00        0.99     Rock  Rock\n",
       "4753         614  2020-12-30 00:00:00        0.99     Rock  Rock\n",
       "4754         614  2020-12-30 00:00:00        0.99     Rock  Rock\n",
       "4755         614  2020-12-30 00:00:00        0.99     Rock  Rock\n",
       "4756         614  2020-12-30 00:00:00        0.99     Rock  Rock\n",
       "\n",
       "[4757 rows x 5 columns]"
      ]
     },
     "execution_count": 86,
     "metadata": {},
     "output_type": "execute_result"
    }
   ],
   "source": [
    "df"
   ]
  },
  {
   "cell_type": "code",
   "execution_count": 87,
   "id": "52f9e891",
   "metadata": {},
   "outputs": [],
   "source": [
    "df = df.drop(['name'],axis=1)"
   ]
  },
  {
   "cell_type": "code",
   "execution_count": 70,
   "id": "1c1f351c",
   "metadata": {},
   "outputs": [
    {
     "data": {
      "text/plain": [
       "invoice_id      0\n",
       "invoice_date    0\n",
       "unit_price      0\n",
       "genre_id        0\n",
       "dtype: int64"
      ]
     },
     "execution_count": 70,
     "metadata": {},
     "output_type": "execute_result"
    }
   ],
   "source": [
    "df.isnull().sum()"
   ]
  },
  {
   "cell_type": "code",
   "execution_count": 71,
   "id": "174ea64b",
   "metadata": {},
   "outputs": [
    {
     "data": {
      "text/plain": [
       "3828"
      ]
     },
     "execution_count": 71,
     "metadata": {},
     "output_type": "execute_result"
    }
   ],
   "source": [
    "df.duplicated().sum()"
   ]
  },
  {
   "cell_type": "code",
   "execution_count": 72,
   "id": "5ad16381",
   "metadata": {},
   "outputs": [],
   "source": [
    "df_dubl = df.loc[df.duplicated()]"
   ]
  },
  {
   "cell_type": "code",
   "execution_count": 73,
   "id": "6c350c32",
   "metadata": {},
   "outputs": [
    {
     "data": {
      "text/html": [
       "<div>\n",
       "<style scoped>\n",
       "    .dataframe tbody tr th:only-of-type {\n",
       "        vertical-align: middle;\n",
       "    }\n",
       "\n",
       "    .dataframe tbody tr th {\n",
       "        vertical-align: top;\n",
       "    }\n",
       "\n",
       "    .dataframe thead th {\n",
       "        text-align: right;\n",
       "    }\n",
       "</style>\n",
       "<table border=\"1\" class=\"dataframe\">\n",
       "  <thead>\n",
       "    <tr style=\"text-align: right;\">\n",
       "      <th></th>\n",
       "      <th>invoice_id</th>\n",
       "      <th>invoice_date</th>\n",
       "      <th>unit_price</th>\n",
       "      <th>genre_id</th>\n",
       "    </tr>\n",
       "  </thead>\n",
       "  <tbody>\n",
       "    <tr>\n",
       "      <th>1</th>\n",
       "      <td>1</td>\n",
       "      <td>2017-01-03 00:00:00</td>\n",
       "      <td>0.99</td>\n",
       "      <td>Rock</td>\n",
       "    </tr>\n",
       "    <tr>\n",
       "      <th>2</th>\n",
       "      <td>1</td>\n",
       "      <td>2017-01-03 00:00:00</td>\n",
       "      <td>0.99</td>\n",
       "      <td>Rock</td>\n",
       "    </tr>\n",
       "    <tr>\n",
       "      <th>3</th>\n",
       "      <td>1</td>\n",
       "      <td>2017-01-03 00:00:00</td>\n",
       "      <td>0.99</td>\n",
       "      <td>Rock</td>\n",
       "    </tr>\n",
       "    <tr>\n",
       "      <th>4</th>\n",
       "      <td>1</td>\n",
       "      <td>2017-01-03 00:00:00</td>\n",
       "      <td>0.99</td>\n",
       "      <td>Rock</td>\n",
       "    </tr>\n",
       "    <tr>\n",
       "      <th>5</th>\n",
       "      <td>1</td>\n",
       "      <td>2017-01-03 00:00:00</td>\n",
       "      <td>0.99</td>\n",
       "      <td>Rock</td>\n",
       "    </tr>\n",
       "    <tr>\n",
       "      <th>...</th>\n",
       "      <td>...</td>\n",
       "      <td>...</td>\n",
       "      <td>...</td>\n",
       "      <td>...</td>\n",
       "    </tr>\n",
       "    <tr>\n",
       "      <th>4752</th>\n",
       "      <td>614</td>\n",
       "      <td>2020-12-30 00:00:00</td>\n",
       "      <td>0.99</td>\n",
       "      <td>Rock</td>\n",
       "    </tr>\n",
       "    <tr>\n",
       "      <th>4753</th>\n",
       "      <td>614</td>\n",
       "      <td>2020-12-30 00:00:00</td>\n",
       "      <td>0.99</td>\n",
       "      <td>Rock</td>\n",
       "    </tr>\n",
       "    <tr>\n",
       "      <th>4754</th>\n",
       "      <td>614</td>\n",
       "      <td>2020-12-30 00:00:00</td>\n",
       "      <td>0.99</td>\n",
       "      <td>Rock</td>\n",
       "    </tr>\n",
       "    <tr>\n",
       "      <th>4755</th>\n",
       "      <td>614</td>\n",
       "      <td>2020-12-30 00:00:00</td>\n",
       "      <td>0.99</td>\n",
       "      <td>Rock</td>\n",
       "    </tr>\n",
       "    <tr>\n",
       "      <th>4756</th>\n",
       "      <td>614</td>\n",
       "      <td>2020-12-30 00:00:00</td>\n",
       "      <td>0.99</td>\n",
       "      <td>Rock</td>\n",
       "    </tr>\n",
       "  </tbody>\n",
       "</table>\n",
       "<p>3828 rows × 4 columns</p>\n",
       "</div>"
      ],
      "text/plain": [
       "      invoice_id         invoice_date  unit_price genre_id\n",
       "1              1  2017-01-03 00:00:00        0.99     Rock\n",
       "2              1  2017-01-03 00:00:00        0.99     Rock\n",
       "3              1  2017-01-03 00:00:00        0.99     Rock\n",
       "4              1  2017-01-03 00:00:00        0.99     Rock\n",
       "5              1  2017-01-03 00:00:00        0.99     Rock\n",
       "...          ...                  ...         ...      ...\n",
       "4752         614  2020-12-30 00:00:00        0.99     Rock\n",
       "4753         614  2020-12-30 00:00:00        0.99     Rock\n",
       "4754         614  2020-12-30 00:00:00        0.99     Rock\n",
       "4755         614  2020-12-30 00:00:00        0.99     Rock\n",
       "4756         614  2020-12-30 00:00:00        0.99     Rock\n",
       "\n",
       "[3828 rows x 4 columns]"
      ]
     },
     "execution_count": 73,
     "metadata": {},
     "output_type": "execute_result"
    }
   ],
   "source": [
    "df_dubl"
   ]
  },
  {
   "cell_type": "markdown",
   "id": "74fe35d1",
   "metadata": {},
   "source": [
    "### Дубликаты удалять не стоит, так как в заказе могут быть разные песни одного жанра и одной цены,эти данные терять нельзя"
   ]
  },
  {
   "cell_type": "code",
   "execution_count": 74,
   "id": "913da195",
   "metadata": {},
   "outputs": [
    {
     "name": "stdout",
     "output_type": "stream",
     "text": [
      "<class 'pandas.core.frame.DataFrame'>\n",
      "RangeIndex: 4757 entries, 0 to 4756\n",
      "Data columns (total 4 columns):\n",
      " #   Column        Non-Null Count  Dtype  \n",
      "---  ------        --------------  -----  \n",
      " 0   invoice_id    4757 non-null   int64  \n",
      " 1   invoice_date  4757 non-null   object \n",
      " 2   unit_price    4757 non-null   float64\n",
      " 3   genre_id      4757 non-null   object \n",
      "dtypes: float64(1), int64(1), object(2)\n",
      "memory usage: 148.8+ KB\n"
     ]
    }
   ],
   "source": [
    "df.info()"
   ]
  },
  {
   "cell_type": "code",
   "execution_count": 101,
   "id": "add81ccf",
   "metadata": {},
   "outputs": [],
   "source": [
    "df['invoice_date']=df['invoice_date'].astype(\"datetime64[ns]\")"
   ]
  },
  {
   "cell_type": "code",
   "execution_count": 102,
   "id": "3f198a10",
   "metadata": {},
   "outputs": [
    {
     "name": "stdout",
     "output_type": "stream",
     "text": [
      "<class 'pandas.core.frame.DataFrame'>\n",
      "RangeIndex: 4757 entries, 0 to 4756\n",
      "Data columns (total 4 columns):\n",
      " #   Column        Non-Null Count  Dtype         \n",
      "---  ------        --------------  -----         \n",
      " 0   invoice_id    4757 non-null   int64         \n",
      " 1   invoice_date  4757 non-null   datetime64[ns]\n",
      " 2   unit_price    4757 non-null   float64       \n",
      " 3   genre_id      4757 non-null   object        \n",
      "dtypes: datetime64[ns](1), float64(1), int64(1), object(1)\n",
      "memory usage: 148.8+ KB\n"
     ]
    }
   ],
   "source": [
    "df.info()"
   ]
  },
  {
   "cell_type": "code",
   "execution_count": 106,
   "id": "591ac3e5",
   "metadata": {},
   "outputs": [
    {
     "data": {
      "text/plain": [
       "0       1\n",
       "1       1\n",
       "2       1\n",
       "3       1\n",
       "4       1\n",
       "       ..\n",
       "4752    1\n",
       "4753    1\n",
       "4754    1\n",
       "4755    1\n",
       "4756    1\n",
       "Name: invoice_date, Length: 4757, dtype: int32"
      ]
     },
     "execution_count": 106,
     "metadata": {},
     "output_type": "execute_result"
    }
   ],
   "source": [
    "time = df['invoice_date'].dt.day\n",
    "time"
   ]
  },
  {
   "cell_type": "code",
   "execution_count": null,
   "id": "374a67f4",
   "metadata": {},
   "outputs": [],
   "source": [
    "df['invoice_date'].dt.day = time.replace(one,inplace=True)\n",
    "df['invoice_date']"
   ]
  },
  {
   "cell_type": "code",
   "execution_count": 107,
   "id": "11d5ea50",
   "metadata": {},
   "outputs": [
    {
     "data": {
      "text/html": [
       "<div>\n",
       "<style scoped>\n",
       "    .dataframe tbody tr th:only-of-type {\n",
       "        vertical-align: middle;\n",
       "    }\n",
       "\n",
       "    .dataframe tbody tr th {\n",
       "        vertical-align: top;\n",
       "    }\n",
       "\n",
       "    .dataframe thead th {\n",
       "        text-align: right;\n",
       "    }\n",
       "</style>\n",
       "<table border=\"1\" class=\"dataframe\">\n",
       "  <thead>\n",
       "    <tr style=\"text-align: right;\">\n",
       "      <th></th>\n",
       "      <th>invoice_id</th>\n",
       "      <th>invoice_date</th>\n",
       "      <th>unit_price</th>\n",
       "      <th>genre_id</th>\n",
       "    </tr>\n",
       "  </thead>\n",
       "  <tbody>\n",
       "    <tr>\n",
       "      <th>0</th>\n",
       "      <td>1</td>\n",
       "      <td>1970-01-01 00:00:00.000000003</td>\n",
       "      <td>0.99</td>\n",
       "      <td>Rock</td>\n",
       "    </tr>\n",
       "    <tr>\n",
       "      <th>1</th>\n",
       "      <td>1</td>\n",
       "      <td>1970-01-01 00:00:00.000000003</td>\n",
       "      <td>0.99</td>\n",
       "      <td>Rock</td>\n",
       "    </tr>\n",
       "    <tr>\n",
       "      <th>2</th>\n",
       "      <td>1</td>\n",
       "      <td>1970-01-01 00:00:00.000000003</td>\n",
       "      <td>0.99</td>\n",
       "      <td>Rock</td>\n",
       "    </tr>\n",
       "    <tr>\n",
       "      <th>3</th>\n",
       "      <td>1</td>\n",
       "      <td>1970-01-01 00:00:00.000000003</td>\n",
       "      <td>0.99</td>\n",
       "      <td>Rock</td>\n",
       "    </tr>\n",
       "    <tr>\n",
       "      <th>4</th>\n",
       "      <td>1</td>\n",
       "      <td>1970-01-01 00:00:00.000000003</td>\n",
       "      <td>0.99</td>\n",
       "      <td>Rock</td>\n",
       "    </tr>\n",
       "    <tr>\n",
       "      <th>...</th>\n",
       "      <td>...</td>\n",
       "      <td>...</td>\n",
       "      <td>...</td>\n",
       "      <td>...</td>\n",
       "    </tr>\n",
       "    <tr>\n",
       "      <th>4752</th>\n",
       "      <td>614</td>\n",
       "      <td>1970-01-01 00:00:00.000000030</td>\n",
       "      <td>0.99</td>\n",
       "      <td>Rock</td>\n",
       "    </tr>\n",
       "    <tr>\n",
       "      <th>4753</th>\n",
       "      <td>614</td>\n",
       "      <td>1970-01-01 00:00:00.000000030</td>\n",
       "      <td>0.99</td>\n",
       "      <td>Rock</td>\n",
       "    </tr>\n",
       "    <tr>\n",
       "      <th>4754</th>\n",
       "      <td>614</td>\n",
       "      <td>1970-01-01 00:00:00.000000030</td>\n",
       "      <td>0.99</td>\n",
       "      <td>Rock</td>\n",
       "    </tr>\n",
       "    <tr>\n",
       "      <th>4755</th>\n",
       "      <td>614</td>\n",
       "      <td>1970-01-01 00:00:00.000000030</td>\n",
       "      <td>0.99</td>\n",
       "      <td>Rock</td>\n",
       "    </tr>\n",
       "    <tr>\n",
       "      <th>4756</th>\n",
       "      <td>614</td>\n",
       "      <td>1970-01-01 00:00:00.000000030</td>\n",
       "      <td>0.99</td>\n",
       "      <td>Rock</td>\n",
       "    </tr>\n",
       "  </tbody>\n",
       "</table>\n",
       "<p>4757 rows × 4 columns</p>\n",
       "</div>"
      ],
      "text/plain": [
       "      invoice_id                  invoice_date  unit_price genre_id\n",
       "0              1 1970-01-01 00:00:00.000000003        0.99     Rock\n",
       "1              1 1970-01-01 00:00:00.000000003        0.99     Rock\n",
       "2              1 1970-01-01 00:00:00.000000003        0.99     Rock\n",
       "3              1 1970-01-01 00:00:00.000000003        0.99     Rock\n",
       "4              1 1970-01-01 00:00:00.000000003        0.99     Rock\n",
       "...          ...                           ...         ...      ...\n",
       "4752         614 1970-01-01 00:00:00.000000030        0.99     Rock\n",
       "4753         614 1970-01-01 00:00:00.000000030        0.99     Rock\n",
       "4754         614 1970-01-01 00:00:00.000000030        0.99     Rock\n",
       "4755         614 1970-01-01 00:00:00.000000030        0.99     Rock\n",
       "4756         614 1970-01-01 00:00:00.000000030        0.99     Rock\n",
       "\n",
       "[4757 rows x 4 columns]"
      ]
     },
     "execution_count": 107,
     "metadata": {},
     "output_type": "execute_result"
    }
   ],
   "source": [
    "df"
   ]
  },
  {
   "cell_type": "code",
   "execution_count": 26,
   "id": "b96c059b",
   "metadata": {},
   "outputs": [
    {
     "data": {
      "text/html": [
       "<div>\n",
       "<style scoped>\n",
       "    .dataframe tbody tr th:only-of-type {\n",
       "        vertical-align: middle;\n",
       "    }\n",
       "\n",
       "    .dataframe tbody tr th {\n",
       "        vertical-align: top;\n",
       "    }\n",
       "\n",
       "    .dataframe thead th {\n",
       "        text-align: right;\n",
       "    }\n",
       "</style>\n",
       "<table border=\"1\" class=\"dataframe\">\n",
       "  <thead>\n",
       "    <tr style=\"text-align: right;\">\n",
       "      <th></th>\n",
       "      <th>genre_id</th>\n",
       "      <th>all_buy_tracks</th>\n",
       "    </tr>\n",
       "  </thead>\n",
       "  <tbody>\n",
       "    <tr>\n",
       "      <th>0</th>\n",
       "      <td>Other</td>\n",
       "      <td>886</td>\n",
       "    </tr>\n",
       "    <tr>\n",
       "      <th>1</th>\n",
       "      <td>Rock</td>\n",
       "      <td>3871</td>\n",
       "    </tr>\n",
       "  </tbody>\n",
       "</table>\n",
       "</div>"
      ],
      "text/plain": [
       "  genre_id  all_buy_tracks\n",
       "0    Other             886\n",
       "1     Rock            3871"
      ]
     },
     "execution_count": 26,
     "metadata": {},
     "output_type": "execute_result"
    }
   ],
   "source": [
    "all_buy=df.groupby(['genre_id'],as_index=False).agg(all_buy_tracks=('invoice_id','count'))\n",
    "all_buy"
   ]
  },
  {
   "cell_type": "code",
   "execution_count": 32,
   "id": "6e892bcf",
   "metadata": {},
   "outputs": [
    {
     "data": {
      "text/plain": [
       "<Axes: xlabel='all_buy_tracks', ylabel='genre_id'>"
      ]
     },
     "execution_count": 32,
     "metadata": {},
     "output_type": "execute_result"
    },
    {
     "data": {
      "image/png": "[encoded data removed]",
      "text/plain": [
       "<Figure size 640x480 with 1 Axes>"
      ]
     },
     "metadata": {},
     "output_type": "display_data"
    }
   ],
   "source": [
    "sns.barplot(x='all_buy_tracks', y='genre_id', data=all_buy)"
   ]
  },
  {
   "cell_type": "code",
   "execution_count": 33,
   "id": "fc84f772",
   "metadata": {},
   "outputs": [
    {
     "data": {
      "text/html": [
       "<div>\n",
       "<style scoped>\n",
       "    .dataframe tbody tr th:only-of-type {\n",
       "        vertical-align: middle;\n",
       "    }\n",
       "\n",
       "    .dataframe tbody tr th {\n",
       "        vertical-align: top;\n",
       "    }\n",
       "\n",
       "    .dataframe thead th {\n",
       "        text-align: right;\n",
       "    }\n",
       "</style>\n",
       "<table border=\"1\" class=\"dataframe\">\n",
       "  <thead>\n",
       "    <tr style=\"text-align: right;\">\n",
       "      <th></th>\n",
       "      <th>genre_id</th>\n",
       "      <th>all_buy_tracks2</th>\n",
       "    </tr>\n",
       "  </thead>\n",
       "  <tbody>\n",
       "    <tr>\n",
       "      <th>0</th>\n",
       "      <td>Other</td>\n",
       "      <td>886</td>\n",
       "    </tr>\n",
       "    <tr>\n",
       "      <th>1</th>\n",
       "      <td>Rock</td>\n",
       "      <td>3871</td>\n",
       "    </tr>\n",
       "  </tbody>\n",
       "</table>\n",
       "</div>"
      ],
      "text/plain": [
       "  genre_id  all_buy_tracks2\n",
       "0    Other              886\n",
       "1     Rock             3871"
      ]
     },
     "execution_count": 33,
     "metadata": {},
     "output_type": "execute_result"
    }
   ],
   "source": [
    "all_tracks=df.groupby(['genre_id'],as_index=False).agg(all_buy_tracks2=('unit_price','count'))\n",
    "all_tracks"
   ]
  },
  {
   "cell_type": "code",
   "execution_count": 35,
   "id": "b59628d7",
   "metadata": {},
   "outputs": [
    {
     "data": {
      "text/plain": [
       "<Axes: xlabel='genre_id', ylabel='all_buy_tracks2'>"
      ]
     },
     "execution_count": 35,
     "metadata": {},
     "output_type": "execute_result"
    },
    {
     "data": {
      "image/png": "[encoded data removed]",
      "text/plain": [
       "<Figure size 640x480 with 1 Axes>"
      ]
     },
     "metadata": {},
     "output_type": "display_data"
    }
   ],
   "source": [
    "sns.barplot(x='genre_id', y='all_buy_tracks2', data=all_tracks)"
   ]
  },
  {
   "cell_type": "code",
   "execution_count": 109,
   "id": "c9ad281b",
   "metadata": {},
   "outputs": [
    {
     "data": {
      "text/html": [
       "<div>\n",
       "<style scoped>\n",
       "    .dataframe tbody tr th:only-of-type {\n",
       "        vertical-align: middle;\n",
       "    }\n",
       "\n",
       "    .dataframe tbody tr th {\n",
       "        vertical-align: top;\n",
       "    }\n",
       "\n",
       "    .dataframe thead th {\n",
       "        text-align: right;\n",
       "    }\n",
       "</style>\n",
       "<table border=\"1\" class=\"dataframe\">\n",
       "  <thead>\n",
       "    <tr style=\"text-align: right;\">\n",
       "      <th></th>\n",
       "      <th>genre_id</th>\n",
       "      <th>all_cost</th>\n",
       "    </tr>\n",
       "  </thead>\n",
       "  <tbody>\n",
       "    <tr>\n",
       "      <th>0</th>\n",
       "      <td>Other</td>\n",
       "      <td>877.14</td>\n",
       "    </tr>\n",
       "    <tr>\n",
       "      <th>1</th>\n",
       "      <td>Rock</td>\n",
       "      <td>3832.29</td>\n",
       "    </tr>\n",
       "  </tbody>\n",
       "</table>\n",
       "</div>"
      ],
      "text/plain": [
       "  genre_id  all_cost\n",
       "0    Other    877.14\n",
       "1     Rock   3832.29"
      ]
     },
     "execution_count": 109,
     "metadata": {},
     "output_type": "execute_result"
    }
   ],
   "source": [
    "all_tracks_cost=df.groupby(['genre_id'],as_index=False).agg(all_cost=('unit_price','sum'))\n",
    "all_tracks_cost"
   ]
  },
  {
   "cell_type": "code",
   "execution_count": 110,
   "id": "0f094d15",
   "metadata": {},
   "outputs": [
    {
     "data": {
      "text/plain": [
       "<Axes: xlabel='genre_id', ylabel='all_cost'>"
      ]
     },
     "execution_count": 110,
     "metadata": {},
     "output_type": "execute_result"
    },
    {
     "data": {
      "image/png": "[encoded data removed]",
      "text/plain": [
       "<Figure size 640x480 with 1 Axes>"
      ]
     },
     "metadata": {},
     "output_type": "display_data"
    }
   ],
   "source": [
    "sns.barplot(x='genre_id', y='all_cost', data=all_tracks_cost)"
   ]
  },
  {
   "cell_type": "markdown",
   "id": "ea72ba03",
   "metadata": {},
   "source": [
    "###  Категории жанра рок намного более востребованные,чем остальные(более чем в 4 раза).Это говорит о том,что на эти категории стоит обращать больше внимания,ведь основной приток клиентов идет по этому каналу"
   ]
  },
  {
   "cell_type": "code",
   "execution_count": null,
   "id": "0cc7889b",
   "metadata": {},
   "outputs": [],
   "source": []
  }
 ],
 "metadata": {
  "kernelspec": {
   "display_name": "Python 3 (ipykernel)",
   "language": "python",
   "name": "python3"
  },
  "language_info": {
   "codemirror_mode": {
    "name": "ipython",
    "version": 3
   },
   "file_extension": ".py",
   "mimetype": "text/x-python",
   "name": "python",
   "nbconvert_exporter": "python",
   "pygments_lexer": "ipython3",
   "version": "3.11.5"
  }
 },
 "nbformat": 4,
 "nbformat_minor": 5
}
